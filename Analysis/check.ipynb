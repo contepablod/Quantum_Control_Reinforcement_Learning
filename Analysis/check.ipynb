{
 "cells": [
  {
   "cell_type": "code",
   "execution_count": 92,
   "metadata": {},
   "outputs": [],
   "source": [
    "import numpy as np\n",
    "from scipy.linalg import expm, norm\n",
    "\n",
    "# Define Pauli matrices and the identity\n",
    "sigma_x = np.array([[0, 1], [1, 0]])\n",
    "sigma_z = np.array([[1, 0], [0, -1]])\n",
    "I = np.eye(2)\n",
    "H_ideal = 1/np.sqrt(2) * np.array([[1, 1], [1, -1]])\n",
    "H = -0.5*(4*sigma_z + 4*sigma_x)\n",
    "\n",
    "def process_fidelity(U_ideal, U_actual):\n",
    "    d = 2  # Hilbert space dimension for one qubit\n",
    "    fid = np.abs(np.trace(U_ideal.conj().T @ U_actual)) / d\n",
    "    return fid**2\n",
    "\n",
    "\n",
    "#################################\n",
    "# Time evolution via time steps #\n",
    "#################################\n",
    "\n",
    "\n",
    "def evolve_in_steps(H, dt, n_steps):\n",
    "    U = I\n",
    "    # Multiply short-time propagators\n",
    "    for i in range(n_steps):\n",
    "        U = expm(-1j * H * dt) @ U\n",
    "        # if process_fidelity(H_ideal, U) > 0.999:\n",
    "        #     print(i)\n",
    "            # break\n",
    "    return U"
   ]
  },
  {
   "cell_type": "code",
   "execution_count": 93,
   "metadata": {},
   "outputs": [
    {
     "data": {
      "text/plain": [
       "array([[-9.51363128e-01+0.21783962j,  3.24695797e-17+0.21783962j],\n",
       "       [ 2.90119204e-17+0.21783962j, -9.51363128e-01-0.21783962j]])"
      ]
     },
     "execution_count": 93,
     "metadata": {},
     "output_type": "execute_result"
    }
   ],
   "source": [
    "n_steps=9\n",
    "evolve_in_steps(H, 1/n_steps, n_steps)"
   ]
  }
 ],
 "metadata": {
  "kernelspec": {
   "display_name": "Python 3",
   "language": "python",
   "name": "python3"
  },
  "language_info": {
   "codemirror_mode": {
    "name": "ipython",
    "version": 3
   },
   "file_extension": ".py",
   "mimetype": "text/x-python",
   "name": "python",
   "nbconvert_exporter": "python",
   "pygments_lexer": "ipython3",
   "version": "3.12.7"
  }
 },
 "nbformat": 4,
 "nbformat_minor": 2
}
